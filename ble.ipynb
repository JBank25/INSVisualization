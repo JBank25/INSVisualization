{
 "cells": [
  {
   "cell_type": "code",
   "execution_count": 9,
   "metadata": {},
   "outputs": [],
   "source": [
    "import asyncio\n",
    "from bleak import BleakScanner\n",
    "from bleak import BleakClient\n",
    "import platform\n",
    "import ast\n",
    "import sys\n",
    "import struct\n",
    "import time\n",
    "BLE_UUID_FLOAT_VALUE = \"C8F88594-2217-0CA6-8F06-A4270B675D69\"\n",
    "val = None\n",
    "num_notifications = 0\n",
    "prev_time = time.time()\n",
    "async def handle_data(sender, data):\n",
    "    global num_notifications\n",
    "    print(f\"notification: {num_notifications}\")\n",
    "    num_notifications += 1\n",
    "    print(len(data))\n",
    "    print(struct.unpack(\"<ffffffffff\", data))\n",
    "    #display time passed\n",
    "    global prev_time\n",
    "    print(time.time() - prev_time)\n",
    "    prev_time = time.time()\n",
    "\n",
    "async def main():\n",
    "    devices = await BleakScanner.discover()\n",
    "    for d in devices:\n",
    "        if d.name == \"Arduino Nano 33 BLE\":\n",
    "            print(\"Ardiono found\")\n",
    "            async with BleakClient(d.address) as client:\n",
    "                print(\"Connected\")\n",
    "                global val\n",
    "                await client.start_notify(BLE_UUID_FLOAT_VALUE, handle_data)\n",
    "                while num_notifications < 9:\n",
    "                    await asyncio.sleep(1.0)"
   ]
  },
  {
   "cell_type": "code",
   "execution_count": 10,
   "metadata": {},
   "outputs": [
    {
     "name": "stdout",
     "output_type": "stream",
     "text": [
      "Ardiono found\n",
      "Connected\n",
      "notification: 0\n",
      "40\n",
      "(1.0, 1.0, 2.0, 3.0, 4.0, 5.0, 6.0, 7.0, 8.0, 9.0)\n",
      "8.770308017730713\n",
      "notification: 1\n",
      "40\n",
      "(2.0, 1.0, 2.0, 3.0, 4.0, 5.0, 6.0, 7.0, 8.0, 9.0)\n",
      "0.9889118671417236\n",
      "notification: 2\n",
      "40\n",
      "(3.0, 1.0, 2.0, 3.0, 4.0, 5.0, 6.0, 7.0, 8.0, 9.0)\n",
      "1.0212059020996094\n",
      "notification: 3\n",
      "40\n",
      "(4.0, 1.0, 2.0, 3.0, 4.0, 5.0, 6.0, 7.0, 8.0, 9.0)\n",
      "0.9921863079071045\n",
      "notification: 4\n",
      "40\n",
      "(5.0, 1.0, 2.0, 3.0, 4.0, 5.0, 6.0, 7.0, 8.0, 9.0)\n",
      "0.9869568347930908\n",
      "notification: 5\n",
      "40\n",
      "(6.0, 1.0, 2.0, 3.0, 4.0, 5.0, 6.0, 7.0, 8.0, 9.0)\n",
      "1.0045409202575684\n",
      "notification: 6\n",
      "40\n",
      "(7.0, 1.0, 2.0, 3.0, 4.0, 5.0, 6.0, 7.0, 8.0, 9.0)\n",
      "0.9943878650665283\n",
      "notification: 7\n",
      "40\n",
      "(8.0, 1.0, 2.0, 3.0, 4.0, 5.0, 6.0, 7.0, 8.0, 9.0)\n",
      "1.0021278858184814\n",
      "notification: 8\n",
      "40\n",
      "(9.0, 1.0, 2.0, 3.0, 4.0, 5.0, 6.0, 7.0, 8.0, 9.0)\n",
      "1.0058982372283936\n"
     ]
    }
   ],
   "source": [
    "await main()"
   ]
  },
  {
   "cell_type": "code",
   "execution_count": 48,
   "metadata": {},
   "outputs": [
    {
     "name": "stdout",
     "output_type": "stream",
     "text": [
      "bytearray(b'm\\xe7\\xfb\\xbd=\\n_@\\xb6\\xf3\\x1d\\xc1')\n"
     ]
    }
   ],
   "source": [
    "print(val)"
   ]
  },
  {
   "cell_type": "code",
   "execution_count": 34,
   "metadata": {},
   "outputs": [],
   "source": [
    "import struct\n",
    "\n",
    "def bytes_to_floats(b):\n",
    "    return struct.unpack(\"<ffffffffff\", b) # Little-endian, 3 floats works correctly\n",
    "\n",
    "# # Example usage\n",
    "# f1, f2, f3 = bytes_to_floats(val)\n",
    "# print(f1, f2, f3) # Output: 1.2 1.2 1.2"
   ]
  },
  {
   "cell_type": "code",
   "execution_count": 35,
   "metadata": {},
   "outputs": [
    {
     "data": {
      "text/plain": [
       "(10.0, 1.0, 2.0, 3.0, 4.0, 5.0, 6.0, 7.0, 8.0, 9.0)"
      ]
     },
     "execution_count": 35,
     "metadata": {},
     "output_type": "execute_result"
    }
   ],
   "source": [
    "bytes_to_floats((b'\\x00\\x00 A\\x00\\x00\\x80?\\x00\\x00\\x00@\\x00\\x00@@\\x00\\x00\\x80@\\x00\\x00\\xa0@\\x00\\x00\\xc0@\\x00\\x00\\xe0@\\x00\\x00\\x00A\\x00\\x00\\x10A'))"
   ]
  },
  {
   "cell_type": "code",
   "execution_count": null,
   "metadata": {},
   "outputs": [],
   "source": []
  }
 ],
 "metadata": {
  "kernelspec": {
   "display_name": "Python 3",
   "language": "python",
   "name": "python3"
  },
  "language_info": {
   "codemirror_mode": {
    "name": "ipython",
    "version": 3
   },
   "file_extension": ".py",
   "mimetype": "text/x-python",
   "name": "python",
   "nbconvert_exporter": "python",
   "pygments_lexer": "ipython3",
   "version": "3.10.9"
  },
  "orig_nbformat": 4,
  "vscode": {
   "interpreter": {
    "hash": "aee8b7b246df8f9039afb4144a1f6fd8d2ca17a180786b69acc140d282b71a49"
   }
  }
 },
 "nbformat": 4,
 "nbformat_minor": 2
}
